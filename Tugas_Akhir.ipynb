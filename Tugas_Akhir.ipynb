{
  "nbformat": 4,
  "nbformat_minor": 0,
  "metadata": {
    "colab": {
      "name": "Tugas-Akhir.ipynb",
      "provenance": [],
      "collapsed_sections": [],
      "toc_visible": true
    },
    "kernelspec": {
      "name": "python3",
      "display_name": "Python 3"
    }
  },
  "cells": [
    {
      "cell_type": "code",
      "metadata": {
        "colab": {
          "base_uri": "https://localhost:8080/"
        },
        "id": "GDOz4t8VLIwx",
        "outputId": "7a3791a5-baf6-41c0-c57b-40f49f33cc61"
      },
      "source": [
        "# connecting google drive\n",
        "from google.colab import drive\n",
        "drive.mount('/content/drive')"
      ],
      "execution_count": null,
      "outputs": [
        {
          "output_type": "stream",
          "text": [
            "Mounted at /content/drive\n"
          ],
          "name": "stdout"
        }
      ]
    },
    {
      "cell_type": "code",
      "metadata": {
        "colab": {
          "base_uri": "https://localhost:8080/"
        },
        "id": "ejP1Cfm4LXu1",
        "outputId": "00361867-8f1d-4773-ecbc-0d7ab99f6162"
      },
      "source": [
        "# Installasi modul PM4PY\n",
        "!pip install pm4py"
      ],
      "execution_count": null,
      "outputs": [
        {
          "output_type": "stream",
          "text": [
            "Collecting pm4py\n",
            "\u001b[?25l  Downloading https://files.pythonhosted.org/packages/e6/8b/e1d2af6e2a2fc373c67c8ee65fb4149fa2f190f2fa4316c4f9c713595d13/pm4py-2.2.2-py3-none-any.whl (1.1MB)\n",
            "\r\u001b[K     |▎                               | 10kB 14.7MB/s eta 0:00:01\r\u001b[K     |▋                               | 20kB 19.1MB/s eta 0:00:01\r\u001b[K     |█                               | 30kB 10.4MB/s eta 0:00:01\r\u001b[K     |█▎                              | 40kB 9.5MB/s eta 0:00:01\r\u001b[K     |█▌                              | 51kB 5.4MB/s eta 0:00:01\r\u001b[K     |█▉                              | 61kB 5.4MB/s eta 0:00:01\r\u001b[K     |██▏                             | 71kB 6.0MB/s eta 0:00:01\r\u001b[K     |██▌                             | 81kB 6.3MB/s eta 0:00:01\r\u001b[K     |██▊                             | 92kB 6.5MB/s eta 0:00:01\r\u001b[K     |███                             | 102kB 7.0MB/s eta 0:00:01\r\u001b[K     |███▍                            | 112kB 7.0MB/s eta 0:00:01\r\u001b[K     |███▊                            | 122kB 7.0MB/s eta 0:00:01\r\u001b[K     |████                            | 133kB 7.0MB/s eta 0:00:01\r\u001b[K     |████▎                           | 143kB 7.0MB/s eta 0:00:01\r\u001b[K     |████▋                           | 153kB 7.0MB/s eta 0:00:01\r\u001b[K     |█████                           | 163kB 7.0MB/s eta 0:00:01\r\u001b[K     |█████▎                          | 174kB 7.0MB/s eta 0:00:01\r\u001b[K     |█████▌                          | 184kB 7.0MB/s eta 0:00:01\r\u001b[K     |█████▉                          | 194kB 7.0MB/s eta 0:00:01\r\u001b[K     |██████▏                         | 204kB 7.0MB/s eta 0:00:01\r\u001b[K     |██████▌                         | 215kB 7.0MB/s eta 0:00:01\r\u001b[K     |██████▉                         | 225kB 7.0MB/s eta 0:00:01\r\u001b[K     |███████                         | 235kB 7.0MB/s eta 0:00:01\r\u001b[K     |███████▍                        | 245kB 7.0MB/s eta 0:00:01\r\u001b[K     |███████▊                        | 256kB 7.0MB/s eta 0:00:01\r\u001b[K     |████████                        | 266kB 7.0MB/s eta 0:00:01\r\u001b[K     |████████▎                       | 276kB 7.0MB/s eta 0:00:01\r\u001b[K     |████████▋                       | 286kB 7.0MB/s eta 0:00:01\r\u001b[K     |█████████                       | 296kB 7.0MB/s eta 0:00:01\r\u001b[K     |█████████▎                      | 307kB 7.0MB/s eta 0:00:01\r\u001b[K     |█████████▋                      | 317kB 7.0MB/s eta 0:00:01\r\u001b[K     |█████████▉                      | 327kB 7.0MB/s eta 0:00:01\r\u001b[K     |██████████▏                     | 337kB 7.0MB/s eta 0:00:01\r\u001b[K     |██████████▌                     | 348kB 7.0MB/s eta 0:00:01\r\u001b[K     |██████████▉                     | 358kB 7.0MB/s eta 0:00:01\r\u001b[K     |███████████                     | 368kB 7.0MB/s eta 0:00:01\r\u001b[K     |███████████▍                    | 378kB 7.0MB/s eta 0:00:01\r\u001b[K     |███████████▊                    | 389kB 7.0MB/s eta 0:00:01\r\u001b[K     |████████████                    | 399kB 7.0MB/s eta 0:00:01\r\u001b[K     |████████████▍                   | 409kB 7.0MB/s eta 0:00:01\r\u001b[K     |████████████▋                   | 419kB 7.0MB/s eta 0:00:01\r\u001b[K     |█████████████                   | 430kB 7.0MB/s eta 0:00:01\r\u001b[K     |█████████████▎                  | 440kB 7.0MB/s eta 0:00:01\r\u001b[K     |█████████████▋                  | 450kB 7.0MB/s eta 0:00:01\r\u001b[K     |█████████████▉                  | 460kB 7.0MB/s eta 0:00:01\r\u001b[K     |██████████████▏                 | 471kB 7.0MB/s eta 0:00:01\r\u001b[K     |██████████████▌                 | 481kB 7.0MB/s eta 0:00:01\r\u001b[K     |██████████████▉                 | 491kB 7.0MB/s eta 0:00:01\r\u001b[K     |███████████████▏                | 501kB 7.0MB/s eta 0:00:01\r\u001b[K     |███████████████▍                | 512kB 7.0MB/s eta 0:00:01\r\u001b[K     |███████████████▊                | 522kB 7.0MB/s eta 0:00:01\r\u001b[K     |████████████████                | 532kB 7.0MB/s eta 0:00:01\r\u001b[K     |████████████████▍               | 542kB 7.0MB/s eta 0:00:01\r\u001b[K     |████████████████▋               | 552kB 7.0MB/s eta 0:00:01\r\u001b[K     |█████████████████               | 563kB 7.0MB/s eta 0:00:01\r\u001b[K     |█████████████████▎              | 573kB 7.0MB/s eta 0:00:01\r\u001b[K     |█████████████████▋              | 583kB 7.0MB/s eta 0:00:01\r\u001b[K     |██████████████████              | 593kB 7.0MB/s eta 0:00:01\r\u001b[K     |██████████████████▏             | 604kB 7.0MB/s eta 0:00:01\r\u001b[K     |██████████████████▌             | 614kB 7.0MB/s eta 0:00:01\r\u001b[K     |██████████████████▉             | 624kB 7.0MB/s eta 0:00:01\r\u001b[K     |███████████████████▏            | 634kB 7.0MB/s eta 0:00:01\r\u001b[K     |███████████████████▍            | 645kB 7.0MB/s eta 0:00:01\r\u001b[K     |███████████████████▊            | 655kB 7.0MB/s eta 0:00:01\r\u001b[K     |████████████████████            | 665kB 7.0MB/s eta 0:00:01\r\u001b[K     |████████████████████▍           | 675kB 7.0MB/s eta 0:00:01\r\u001b[K     |████████████████████▊           | 686kB 7.0MB/s eta 0:00:01\r\u001b[K     |█████████████████████           | 696kB 7.0MB/s eta 0:00:01\r\u001b[K     |█████████████████████▎          | 706kB 7.0MB/s eta 0:00:01\r\u001b[K     |█████████████████████▋          | 716kB 7.0MB/s eta 0:00:01\r\u001b[K     |██████████████████████          | 727kB 7.0MB/s eta 0:00:01\r\u001b[K     |██████████████████████▏         | 737kB 7.0MB/s eta 0:00:01\r\u001b[K     |██████████████████████▌         | 747kB 7.0MB/s eta 0:00:01\r\u001b[K     |██████████████████████▉         | 757kB 7.0MB/s eta 0:00:01\r\u001b[K     |███████████████████████▏        | 768kB 7.0MB/s eta 0:00:01\r\u001b[K     |███████████████████████▌        | 778kB 7.0MB/s eta 0:00:01\r\u001b[K     |███████████████████████▊        | 788kB 7.0MB/s eta 0:00:01\r\u001b[K     |████████████████████████        | 798kB 7.0MB/s eta 0:00:01\r\u001b[K     |████████████████████████▍       | 808kB 7.0MB/s eta 0:00:01\r\u001b[K     |████████████████████████▊       | 819kB 7.0MB/s eta 0:00:01\r\u001b[K     |█████████████████████████       | 829kB 7.0MB/s eta 0:00:01\r\u001b[K     |█████████████████████████▎      | 839kB 7.0MB/s eta 0:00:01\r\u001b[K     |█████████████████████████▋      | 849kB 7.0MB/s eta 0:00:01\r\u001b[K     |██████████████████████████      | 860kB 7.0MB/s eta 0:00:01\r\u001b[K     |██████████████████████████▎     | 870kB 7.0MB/s eta 0:00:01\r\u001b[K     |██████████████████████████▌     | 880kB 7.0MB/s eta 0:00:01\r\u001b[K     |██████████████████████████▉     | 890kB 7.0MB/s eta 0:00:01\r\u001b[K     |███████████████████████████▏    | 901kB 7.0MB/s eta 0:00:01\r\u001b[K     |███████████████████████████▌    | 911kB 7.0MB/s eta 0:00:01\r\u001b[K     |███████████████████████████▊    | 921kB 7.0MB/s eta 0:00:01\r\u001b[K     |████████████████████████████    | 931kB 7.0MB/s eta 0:00:01\r\u001b[K     |████████████████████████████▍   | 942kB 7.0MB/s eta 0:00:01\r\u001b[K     |████████████████████████████▊   | 952kB 7.0MB/s eta 0:00:01\r\u001b[K     |█████████████████████████████   | 962kB 7.0MB/s eta 0:00:01\r\u001b[K     |█████████████████████████████▎  | 972kB 7.0MB/s eta 0:00:01\r\u001b[K     |█████████████████████████████▋  | 983kB 7.0MB/s eta 0:00:01\r\u001b[K     |██████████████████████████████  | 993kB 7.0MB/s eta 0:00:01\r\u001b[K     |██████████████████████████████▎ | 1.0MB 7.0MB/s eta 0:00:01\r\u001b[K     |██████████████████████████████▌ | 1.0MB 7.0MB/s eta 0:00:01\r\u001b[K     |██████████████████████████████▉ | 1.0MB 7.0MB/s eta 0:00:01\r\u001b[K     |███████████████████████████████▏| 1.0MB 7.0MB/s eta 0:00:01\r\u001b[K     |███████████████████████████████▌| 1.0MB 7.0MB/s eta 0:00:01\r\u001b[K     |███████████████████████████████▊| 1.1MB 7.0MB/s eta 0:00:01\r\u001b[K     |████████████████████████████████| 1.1MB 7.0MB/s \n",
            "\u001b[?25hRequirement already satisfied: tqdm in /usr/local/lib/python3.7/dist-packages (from pm4py) (4.41.1)\n",
            "Collecting pyvis\n",
            "  Downloading https://files.pythonhosted.org/packages/07/d1/e87844ec86e96df7364f21af2263ad6030c0d727660ae89935c7af56a540/pyvis-0.1.9-py3-none-any.whl\n",
            "Requirement already satisfied: matplotlib in /usr/local/lib/python3.7/dist-packages (from pm4py) (3.2.2)\n",
            "Requirement already satisfied: pytz in /usr/local/lib/python3.7/dist-packages (from pm4py) (2018.9)\n",
            "Requirement already satisfied: numpy!=1.19.4 in /usr/local/lib/python3.7/dist-packages (from pm4py) (1.19.5)\n",
            "Requirement already satisfied: graphviz in /usr/local/lib/python3.7/dist-packages (from pm4py) (0.10.1)\n",
            "Collecting jsonpickle\n",
            "  Downloading https://files.pythonhosted.org/packages/bb/1a/f2db026d4d682303793559f1c2bb425ba3ec0d6fd7ac63397790443f2461/jsonpickle-2.0.0-py2.py3-none-any.whl\n",
            "Collecting pulp<=2.1\n",
            "\u001b[?25l  Downloading https://files.pythonhosted.org/packages/41/34/757c88c320f80ce602199603afe63aed1e0bc11180b9a9fb6018fb2ce7ef/PuLP-2.1-py3-none-any.whl (40.6MB)\n",
            "\u001b[K     |████████████████████████████████| 40.6MB 102kB/s \n",
            "\u001b[?25hRequirement already satisfied: pandas in /usr/local/lib/python3.7/dist-packages (from pm4py) (1.1.5)\n",
            "Requirement already satisfied: cvxopt; python_version < \"3.9\" in /usr/local/lib/python3.7/dist-packages (from pm4py) (1.2.6)\n",
            "Requirement already satisfied: lxml in /usr/local/lib/python3.7/dist-packages (from pm4py) (4.2.6)\n",
            "Requirement already satisfied: scipy in /usr/local/lib/python3.7/dist-packages (from pm4py) (1.4.1)\n",
            "Collecting stringdist\n",
            "  Downloading https://files.pythonhosted.org/packages/85/f0/c56cbe92b4b06fbc7adaa81917ad34d7027834e166fff2d2db73961c67fa/StringDist-1.0.9.tar.gz\n",
            "Collecting deprecation\n",
            "  Downloading https://files.pythonhosted.org/packages/02/c3/253a89ee03fc9b9682f1541728eb66db7db22148cd94f89ab22528cd1e1b/deprecation-2.1.0-py2.py3-none-any.whl\n",
            "Requirement already satisfied: pydotplus in /usr/local/lib/python3.7/dist-packages (from pm4py) (2.0.2)\n",
            "Requirement already satisfied: scikit-learn in /usr/local/lib/python3.7/dist-packages (from pm4py) (0.22.2.post1)\n",
            "Requirement already satisfied: intervaltree in /usr/local/lib/python3.7/dist-packages (from pm4py) (2.1.0)\n",
            "Requirement already satisfied: networkx in /usr/local/lib/python3.7/dist-packages (from pm4py) (2.5)\n",
            "Requirement already satisfied: sympy in /usr/local/lib/python3.7/dist-packages (from pm4py) (1.7.1)\n",
            "Requirement already satisfied: ipython>=5.3.0 in /usr/local/lib/python3.7/dist-packages (from pyvis->pm4py) (5.5.0)\n",
            "Requirement already satisfied: jinja2>=2.9.6 in /usr/local/lib/python3.7/dist-packages (from pyvis->pm4py) (2.11.3)\n",
            "Requirement already satisfied: kiwisolver>=1.0.1 in /usr/local/lib/python3.7/dist-packages (from matplotlib->pm4py) (1.3.1)\n",
            "Requirement already satisfied: python-dateutil>=2.1 in /usr/local/lib/python3.7/dist-packages (from matplotlib->pm4py) (2.8.1)\n",
            "Requirement already satisfied: pyparsing!=2.0.4,!=2.1.2,!=2.1.6,>=2.0.1 in /usr/local/lib/python3.7/dist-packages (from matplotlib->pm4py) (2.4.7)\n",
            "Requirement already satisfied: cycler>=0.10 in /usr/local/lib/python3.7/dist-packages (from matplotlib->pm4py) (0.10.0)\n",
            "Requirement already satisfied: importlib-metadata; python_version < \"3.8\" in /usr/local/lib/python3.7/dist-packages (from jsonpickle->pm4py) (3.7.0)\n",
            "Requirement already satisfied: packaging in /usr/local/lib/python3.7/dist-packages (from deprecation->pm4py) (20.9)\n",
            "Requirement already satisfied: joblib>=0.11 in /usr/local/lib/python3.7/dist-packages (from scikit-learn->pm4py) (1.0.1)\n",
            "Requirement already satisfied: sortedcontainers in /usr/local/lib/python3.7/dist-packages (from intervaltree->pm4py) (2.3.0)\n",
            "Requirement already satisfied: decorator>=4.3.0 in /usr/local/lib/python3.7/dist-packages (from networkx->pm4py) (4.4.2)\n",
            "Requirement already satisfied: mpmath>=0.19 in /usr/local/lib/python3.7/dist-packages (from sympy->pm4py) (1.2.1)\n",
            "Requirement already satisfied: pygments in /usr/local/lib/python3.7/dist-packages (from ipython>=5.3.0->pyvis->pm4py) (2.6.1)\n",
            "Requirement already satisfied: simplegeneric>0.8 in /usr/local/lib/python3.7/dist-packages (from ipython>=5.3.0->pyvis->pm4py) (0.8.1)\n",
            "Requirement already satisfied: pickleshare in /usr/local/lib/python3.7/dist-packages (from ipython>=5.3.0->pyvis->pm4py) (0.7.5)\n",
            "Requirement already satisfied: setuptools>=18.5 in /usr/local/lib/python3.7/dist-packages (from ipython>=5.3.0->pyvis->pm4py) (54.0.0)\n",
            "Requirement already satisfied: traitlets>=4.2 in /usr/local/lib/python3.7/dist-packages (from ipython>=5.3.0->pyvis->pm4py) (5.0.5)\n",
            "Requirement already satisfied: pexpect; sys_platform != \"win32\" in /usr/local/lib/python3.7/dist-packages (from ipython>=5.3.0->pyvis->pm4py) (4.8.0)\n",
            "Requirement already satisfied: prompt-toolkit<2.0.0,>=1.0.4 in /usr/local/lib/python3.7/dist-packages (from ipython>=5.3.0->pyvis->pm4py) (1.0.18)\n",
            "Requirement already satisfied: MarkupSafe>=0.23 in /usr/local/lib/python3.7/dist-packages (from jinja2>=2.9.6->pyvis->pm4py) (1.1.1)\n",
            "Requirement already satisfied: six>=1.5 in /usr/local/lib/python3.7/dist-packages (from python-dateutil>=2.1->matplotlib->pm4py) (1.15.0)\n",
            "Requirement already satisfied: zipp>=0.5 in /usr/local/lib/python3.7/dist-packages (from importlib-metadata; python_version < \"3.8\"->jsonpickle->pm4py) (3.4.1)\n",
            "Requirement already satisfied: typing-extensions>=3.6.4; python_version < \"3.8\" in /usr/local/lib/python3.7/dist-packages (from importlib-metadata; python_version < \"3.8\"->jsonpickle->pm4py) (3.7.4.3)\n",
            "Requirement already satisfied: ipython-genutils in /usr/local/lib/python3.7/dist-packages (from traitlets>=4.2->ipython>=5.3.0->pyvis->pm4py) (0.2.0)\n",
            "Requirement already satisfied: ptyprocess>=0.5 in /usr/local/lib/python3.7/dist-packages (from pexpect; sys_platform != \"win32\"->ipython>=5.3.0->pyvis->pm4py) (0.7.0)\n",
            "Requirement already satisfied: wcwidth in /usr/local/lib/python3.7/dist-packages (from prompt-toolkit<2.0.0,>=1.0.4->ipython>=5.3.0->pyvis->pm4py) (0.2.5)\n",
            "Building wheels for collected packages: stringdist\n",
            "  Building wheel for stringdist (setup.py) ... \u001b[?25l\u001b[?25hdone\n",
            "  Created wheel for stringdist: filename=StringDist-1.0.9-cp37-cp37m-linux_x86_64.whl size=23553 sha256=6b3509177297a504caeca5bb8bbf03ba65f72240a197af1e982de89f39208cea\n",
            "  Stored in directory: /root/.cache/pip/wheels/c3/1b/bb/bf0de4d64d8ca38759811fe3353e441f12feb606fb3d1d2e11\n",
            "Successfully built stringdist\n",
            "Installing collected packages: jsonpickle, pyvis, pulp, stringdist, deprecation, pm4py\n",
            "Successfully installed deprecation-2.1.0 jsonpickle-2.0.0 pm4py-2.2.2 pulp-2.1 pyvis-0.1.9 stringdist-1.0.9\n"
          ],
          "name": "stdout"
        }
      ]
    },
    {
      "cell_type": "code",
      "metadata": {
        "id": "s_W-4sJDLXrR"
      },
      "source": [
        "# Import library\n",
        "import pandas as pd\n",
        "import numpy as np\n",
        "from datetime import date\n",
        "from IPython.display import Image\n",
        "pd.options.mode.chained_assignment = None  # default='warn'"
      ],
      "execution_count": null,
      "outputs": []
    },
    {
      "cell_type": "code",
      "metadata": {
        "id": "Ss-pykH8LXoi"
      },
      "source": [
        "# Change directory folder\n",
        "import os\n",
        "os.chdir('drive/MyDrive/Belajar Proses Mining')"
      ],
      "execution_count": null,
      "outputs": []
    },
    {
      "cell_type": "code",
      "metadata": {
        "colab": {
          "base_uri": "https://localhost:8080/",
          "height": 301
        },
        "id": "_SKAML0zLXZL",
        "outputId": "bba13024-7fbf-42f8-94d5-b6cf1b3f9038"
      },
      "source": [
        "# Import dataset with with pandas\n",
        "event_df = pd.read_csv('data-cleansing.csv', low_memory=False)\n",
        "\n",
        "# Display the top 5 records\n",
        "event_df.head()"
      ],
      "execution_count": null,
      "outputs": [
        {
          "output_type": "execute_result",
          "data": {
            "text/html": [
              "<div>\n",
              "<style scoped>\n",
              "    .dataframe tbody tr th:only-of-type {\n",
              "        vertical-align: middle;\n",
              "    }\n",
              "\n",
              "    .dataframe tbody tr th {\n",
              "        vertical-align: top;\n",
              "    }\n",
              "\n",
              "    .dataframe thead th {\n",
              "        text-align: right;\n",
              "    }\n",
              "</style>\n",
              "<table border=\"1\" class=\"dataframe\">\n",
              "  <thead>\n",
              "    <tr style=\"text-align: right;\">\n",
              "      <th></th>\n",
              "      <th>CaseID</th>\n",
              "      <th>LABEL</th>\n",
              "      <th>Time_Stamps</th>\n",
              "      <th>Group_Activities</th>\n",
              "      <th>CTR_SIZE</th>\n",
              "      <th>CTR_TYPE</th>\n",
              "      <th>ORI_CTR_STATUS</th>\n",
              "      <th>GROSS</th>\n",
              "      <th>CUSTOMS_DEL_DOC_TYPE</th>\n",
              "      <th>FINAL_CTR_STATUS</th>\n",
              "      <th>CUSTOMS_BHD_DOC_TYPE</th>\n",
              "      <th>BHD_TYPE</th>\n",
              "      <th>CUSTOMS_PERMIT_DOC_TYPE</th>\n",
              "    </tr>\n",
              "  </thead>\n",
              "  <tbody>\n",
              "    <tr>\n",
              "      <th>0</th>\n",
              "      <td>3042664</td>\n",
              "      <td>A</td>\n",
              "      <td>3/1/2015 7:40</td>\n",
              "      <td>berth discharge</td>\n",
              "      <td>40.0</td>\n",
              "      <td>DRY</td>\n",
              "      <td>FCL</td>\n",
              "      <td>10.0</td>\n",
              "      <td>NaN</td>\n",
              "      <td>NaN</td>\n",
              "      <td>NaN</td>\n",
              "      <td>NaN</td>\n",
              "      <td>NaN</td>\n",
              "    </tr>\n",
              "    <tr>\n",
              "      <th>1</th>\n",
              "      <td>3042664</td>\n",
              "      <td>B</td>\n",
              "      <td>3/1/2015 8:21</td>\n",
              "      <td>yard discharge</td>\n",
              "      <td>NaN</td>\n",
              "      <td>NaN</td>\n",
              "      <td>NaN</td>\n",
              "      <td>NaN</td>\n",
              "      <td>NaN</td>\n",
              "      <td>NaN</td>\n",
              "      <td>NaN</td>\n",
              "      <td>NaN</td>\n",
              "      <td>NaN</td>\n",
              "    </tr>\n",
              "    <tr>\n",
              "      <th>2</th>\n",
              "      <td>3042664</td>\n",
              "      <td>N</td>\n",
              "      <td>31/07/2015 10:23:45</td>\n",
              "      <td>delivery</td>\n",
              "      <td>NaN</td>\n",
              "      <td>NaN</td>\n",
              "      <td>NaN</td>\n",
              "      <td>NaN</td>\n",
              "      <td>SPPB</td>\n",
              "      <td>NaN</td>\n",
              "      <td>NaN</td>\n",
              "      <td>NaN</td>\n",
              "      <td>NaN</td>\n",
              "    </tr>\n",
              "    <tr>\n",
              "      <th>3</th>\n",
              "      <td>3042664</td>\n",
              "      <td>O</td>\n",
              "      <td>31/07/2015 19:21:52</td>\n",
              "      <td>delivery</td>\n",
              "      <td>NaN</td>\n",
              "      <td>NaN</td>\n",
              "      <td>NaN</td>\n",
              "      <td>NaN</td>\n",
              "      <td>NaN</td>\n",
              "      <td>NaN</td>\n",
              "      <td>NaN</td>\n",
              "      <td>NaN</td>\n",
              "      <td>NaN</td>\n",
              "    </tr>\n",
              "    <tr>\n",
              "      <th>4</th>\n",
              "      <td>3042664</td>\n",
              "      <td>P</td>\n",
              "      <td>31/07/2015 19:39:22</td>\n",
              "      <td>delivery</td>\n",
              "      <td>NaN</td>\n",
              "      <td>NaN</td>\n",
              "      <td>NaN</td>\n",
              "      <td>NaN</td>\n",
              "      <td>NaN</td>\n",
              "      <td>FCL</td>\n",
              "      <td>NaN</td>\n",
              "      <td>NaN</td>\n",
              "      <td>NaN</td>\n",
              "    </tr>\n",
              "  </tbody>\n",
              "</table>\n",
              "</div>"
            ],
            "text/plain": [
              "    CaseID LABEL  ... BHD_TYPE CUSTOMS_PERMIT_DOC_TYPE\n",
              "0  3042664     A  ...      NaN                     NaN\n",
              "1  3042664     B  ...      NaN                     NaN\n",
              "2  3042664     N  ...      NaN                     NaN\n",
              "3  3042664     O  ...      NaN                     NaN\n",
              "4  3042664     P  ...      NaN                     NaN\n",
              "\n",
              "[5 rows x 13 columns]"
            ]
          },
          "metadata": {
            "tags": []
          },
          "execution_count": 5
        }
      ]
    },
    {
      "cell_type": "code",
      "metadata": {
        "colab": {
          "base_uri": "https://localhost:8080/",
          "height": 347
        },
        "id": "e3J00vqxN0cF",
        "outputId": "ac36bc3b-d861-4fae-87b9-d2980ffaabbf"
      },
      "source": [
        "# Slicing the colomns in the dataset\n",
        "event_df[['CaseID', 'LABEL', 'Time_Stamps', 'Group_Activities']].head(10)"
      ],
      "execution_count": null,
      "outputs": [
        {
          "output_type": "execute_result",
          "data": {
            "text/html": [
              "<div>\n",
              "<style scoped>\n",
              "    .dataframe tbody tr th:only-of-type {\n",
              "        vertical-align: middle;\n",
              "    }\n",
              "\n",
              "    .dataframe tbody tr th {\n",
              "        vertical-align: top;\n",
              "    }\n",
              "\n",
              "    .dataframe thead th {\n",
              "        text-align: right;\n",
              "    }\n",
              "</style>\n",
              "<table border=\"1\" class=\"dataframe\">\n",
              "  <thead>\n",
              "    <tr style=\"text-align: right;\">\n",
              "      <th></th>\n",
              "      <th>CaseID</th>\n",
              "      <th>LABEL</th>\n",
              "      <th>Time_Stamps</th>\n",
              "      <th>Group_Activities</th>\n",
              "    </tr>\n",
              "  </thead>\n",
              "  <tbody>\n",
              "    <tr>\n",
              "      <th>0</th>\n",
              "      <td>3042664</td>\n",
              "      <td>A</td>\n",
              "      <td>3/1/2015 7:40</td>\n",
              "      <td>berth discharge</td>\n",
              "    </tr>\n",
              "    <tr>\n",
              "      <th>1</th>\n",
              "      <td>3042664</td>\n",
              "      <td>B</td>\n",
              "      <td>3/1/2015 8:21</td>\n",
              "      <td>yard discharge</td>\n",
              "    </tr>\n",
              "    <tr>\n",
              "      <th>2</th>\n",
              "      <td>3042664</td>\n",
              "      <td>N</td>\n",
              "      <td>31/07/2015 10:23:45</td>\n",
              "      <td>delivery</td>\n",
              "    </tr>\n",
              "    <tr>\n",
              "      <th>3</th>\n",
              "      <td>3042664</td>\n",
              "      <td>O</td>\n",
              "      <td>31/07/2015 19:21:52</td>\n",
              "      <td>delivery</td>\n",
              "    </tr>\n",
              "    <tr>\n",
              "      <th>4</th>\n",
              "      <td>3042664</td>\n",
              "      <td>P</td>\n",
              "      <td>31/07/2015 19:39:22</td>\n",
              "      <td>delivery</td>\n",
              "    </tr>\n",
              "    <tr>\n",
              "      <th>5</th>\n",
              "      <td>3042795</td>\n",
              "      <td>A</td>\n",
              "      <td>2/1/2015 15:26</td>\n",
              "      <td>berth discharge</td>\n",
              "    </tr>\n",
              "    <tr>\n",
              "      <th>6</th>\n",
              "      <td>3042795</td>\n",
              "      <td>B</td>\n",
              "      <td>2/1/2015 15:39</td>\n",
              "      <td>yard discharge</td>\n",
              "    </tr>\n",
              "    <tr>\n",
              "      <th>7</th>\n",
              "      <td>3042795</td>\n",
              "      <td>N</td>\n",
              "      <td>31/07/2015 10:23:45</td>\n",
              "      <td>delivery</td>\n",
              "    </tr>\n",
              "    <tr>\n",
              "      <th>8</th>\n",
              "      <td>3042795</td>\n",
              "      <td>O</td>\n",
              "      <td>31/07/2015 20:35:47</td>\n",
              "      <td>delivery</td>\n",
              "    </tr>\n",
              "    <tr>\n",
              "      <th>9</th>\n",
              "      <td>3042795</td>\n",
              "      <td>P</td>\n",
              "      <td>31/07/2015 21:16:12</td>\n",
              "      <td>delivery</td>\n",
              "    </tr>\n",
              "  </tbody>\n",
              "</table>\n",
              "</div>"
            ],
            "text/plain": [
              "    CaseID LABEL          Time_Stamps Group_Activities\n",
              "0  3042664     A        3/1/2015 7:40  berth discharge\n",
              "1  3042664     B        3/1/2015 8:21   yard discharge\n",
              "2  3042664     N  31/07/2015 10:23:45         delivery\n",
              "3  3042664     O  31/07/2015 19:21:52         delivery\n",
              "4  3042664     P  31/07/2015 19:39:22         delivery\n",
              "5  3042795     A       2/1/2015 15:26  berth discharge\n",
              "6  3042795     B       2/1/2015 15:39   yard discharge\n",
              "7  3042795     N  31/07/2015 10:23:45         delivery\n",
              "8  3042795     O  31/07/2015 20:35:47         delivery\n",
              "9  3042795     P  31/07/2015 21:16:12         delivery"
            ]
          },
          "metadata": {
            "tags": []
          },
          "execution_count": 6
        }
      ]
    },
    {
      "cell_type": "code",
      "metadata": {
        "colab": {
          "base_uri": "https://localhost:8080/"
        },
        "id": "NHsrDYHEy72Q",
        "outputId": "50cdf835-f754-4ab8-e9ef-83f28083979a"
      },
      "source": [
        "event_df['Group_Activities'].unique()"
      ],
      "execution_count": null,
      "outputs": [
        {
          "output_type": "execute_result",
          "data": {
            "text/plain": [
              "array(['berth discharge', 'yard discharge', 'delivery',\n",
              "       'customs behandle', 'quarantine behandle', 'rubah status FCL-LCL'],\n",
              "      dtype=object)"
            ]
          },
          "metadata": {
            "tags": []
          },
          "execution_count": 8
        }
      ]
    },
    {
      "cell_type": "code",
      "metadata": {
        "colab": {
          "base_uri": "https://localhost:8080/"
        },
        "id": "5_MTlDVTN0ZH",
        "outputId": "bc331a5f-7987-4d13-9602-f690db9d4f00"
      },
      "source": [
        "# Display the shape on the dataset\n",
        "print('{} rows and {} columns.'.format(event_df.shape[0], event_df.shape[1]))"
      ],
      "execution_count": null,
      "outputs": [
        {
          "output_type": "stream",
          "text": [
            "531581 rows and 13 columns.\n"
          ],
          "name": "stdout"
        }
      ]
    },
    {
      "cell_type": "code",
      "metadata": {
        "id": "f9gXwucKN0Nf"
      },
      "source": [
        "# Create a new dataframe\n",
        "events = event_df[['CaseID', 'LABEL', 'Time_Stamps', 'Group_Activities']]"
      ],
      "execution_count": null,
      "outputs": []
    },
    {
      "cell_type": "code",
      "metadata": {
        "colab": {
          "base_uri": "https://localhost:8080/",
          "height": 347
        },
        "id": "Lf9lDQtxN0IU",
        "outputId": "6b24bcd3-5307-4432-ac2b-3fb7ec35799a"
      },
      "source": [
        "# Display the top 10 records\n",
        "events.head(10)"
      ],
      "execution_count": null,
      "outputs": [
        {
          "output_type": "execute_result",
          "data": {
            "text/html": [
              "<div>\n",
              "<style scoped>\n",
              "    .dataframe tbody tr th:only-of-type {\n",
              "        vertical-align: middle;\n",
              "    }\n",
              "\n",
              "    .dataframe tbody tr th {\n",
              "        vertical-align: top;\n",
              "    }\n",
              "\n",
              "    .dataframe thead th {\n",
              "        text-align: right;\n",
              "    }\n",
              "</style>\n",
              "<table border=\"1\" class=\"dataframe\">\n",
              "  <thead>\n",
              "    <tr style=\"text-align: right;\">\n",
              "      <th></th>\n",
              "      <th>CaseID</th>\n",
              "      <th>LABEL</th>\n",
              "      <th>Time_Stamps</th>\n",
              "      <th>Group_Activities</th>\n",
              "    </tr>\n",
              "  </thead>\n",
              "  <tbody>\n",
              "    <tr>\n",
              "      <th>0</th>\n",
              "      <td>3042664</td>\n",
              "      <td>A</td>\n",
              "      <td>3/1/2015 7:40</td>\n",
              "      <td>berth discharge</td>\n",
              "    </tr>\n",
              "    <tr>\n",
              "      <th>1</th>\n",
              "      <td>3042664</td>\n",
              "      <td>B</td>\n",
              "      <td>3/1/2015 8:21</td>\n",
              "      <td>yard discharge</td>\n",
              "    </tr>\n",
              "    <tr>\n",
              "      <th>2</th>\n",
              "      <td>3042664</td>\n",
              "      <td>N</td>\n",
              "      <td>31/07/2015 10:23:45</td>\n",
              "      <td>delivery</td>\n",
              "    </tr>\n",
              "    <tr>\n",
              "      <th>3</th>\n",
              "      <td>3042664</td>\n",
              "      <td>O</td>\n",
              "      <td>31/07/2015 19:21:52</td>\n",
              "      <td>delivery</td>\n",
              "    </tr>\n",
              "    <tr>\n",
              "      <th>4</th>\n",
              "      <td>3042664</td>\n",
              "      <td>P</td>\n",
              "      <td>31/07/2015 19:39:22</td>\n",
              "      <td>delivery</td>\n",
              "    </tr>\n",
              "    <tr>\n",
              "      <th>5</th>\n",
              "      <td>3042795</td>\n",
              "      <td>A</td>\n",
              "      <td>2/1/2015 15:26</td>\n",
              "      <td>berth discharge</td>\n",
              "    </tr>\n",
              "    <tr>\n",
              "      <th>6</th>\n",
              "      <td>3042795</td>\n",
              "      <td>B</td>\n",
              "      <td>2/1/2015 15:39</td>\n",
              "      <td>yard discharge</td>\n",
              "    </tr>\n",
              "    <tr>\n",
              "      <th>7</th>\n",
              "      <td>3042795</td>\n",
              "      <td>N</td>\n",
              "      <td>31/07/2015 10:23:45</td>\n",
              "      <td>delivery</td>\n",
              "    </tr>\n",
              "    <tr>\n",
              "      <th>8</th>\n",
              "      <td>3042795</td>\n",
              "      <td>O</td>\n",
              "      <td>31/07/2015 20:35:47</td>\n",
              "      <td>delivery</td>\n",
              "    </tr>\n",
              "    <tr>\n",
              "      <th>9</th>\n",
              "      <td>3042795</td>\n",
              "      <td>P</td>\n",
              "      <td>31/07/2015 21:16:12</td>\n",
              "      <td>delivery</td>\n",
              "    </tr>\n",
              "  </tbody>\n",
              "</table>\n",
              "</div>"
            ],
            "text/plain": [
              "    CaseID LABEL          Time_Stamps Group_Activities\n",
              "0  3042664     A        3/1/2015 7:40  berth discharge\n",
              "1  3042664     B        3/1/2015 8:21   yard discharge\n",
              "2  3042664     N  31/07/2015 10:23:45         delivery\n",
              "3  3042664     O  31/07/2015 19:21:52         delivery\n",
              "4  3042664     P  31/07/2015 19:39:22         delivery\n",
              "5  3042795     A       2/1/2015 15:26  berth discharge\n",
              "6  3042795     B       2/1/2015 15:39   yard discharge\n",
              "7  3042795     N  31/07/2015 10:23:45         delivery\n",
              "8  3042795     O  31/07/2015 20:35:47         delivery\n",
              "9  3042795     P  31/07/2015 21:16:12         delivery"
            ]
          },
          "metadata": {
            "tags": []
          },
          "execution_count": 11
        }
      ]
    },
    {
      "cell_type": "code",
      "metadata": {
        "id": "bjfzv2YvQpLh"
      },
      "source": [
        "# Change the column names in the dataset\n",
        "events.rename(columns={'CaseID':'case',\n",
        "                       'LABEL':'label',\n",
        "                       'Time_Stamps':'datetime',\n",
        "                       'Group_Activities':'activities'\n",
        "                       }, inplace=True)"
      ],
      "execution_count": null,
      "outputs": []
    },
    {
      "cell_type": "code",
      "metadata": {
        "colab": {
          "base_uri": "https://localhost:8080/",
          "height": 197
        },
        "id": "GR2sXtG9Ryuz",
        "outputId": "347b4c10-9b0e-4a36-b327-df0fcaebcea8"
      },
      "source": [
        "# Display the top 5 records\n",
        "events.head()"
      ],
      "execution_count": null,
      "outputs": [
        {
          "output_type": "execute_result",
          "data": {
            "text/html": [
              "<div>\n",
              "<style scoped>\n",
              "    .dataframe tbody tr th:only-of-type {\n",
              "        vertical-align: middle;\n",
              "    }\n",
              "\n",
              "    .dataframe tbody tr th {\n",
              "        vertical-align: top;\n",
              "    }\n",
              "\n",
              "    .dataframe thead th {\n",
              "        text-align: right;\n",
              "    }\n",
              "</style>\n",
              "<table border=\"1\" class=\"dataframe\">\n",
              "  <thead>\n",
              "    <tr style=\"text-align: right;\">\n",
              "      <th></th>\n",
              "      <th>case</th>\n",
              "      <th>label</th>\n",
              "      <th>datetime</th>\n",
              "      <th>activities</th>\n",
              "    </tr>\n",
              "  </thead>\n",
              "  <tbody>\n",
              "    <tr>\n",
              "      <th>0</th>\n",
              "      <td>3042664</td>\n",
              "      <td>A</td>\n",
              "      <td>3/1/2015 7:40</td>\n",
              "      <td>berth discharge</td>\n",
              "    </tr>\n",
              "    <tr>\n",
              "      <th>1</th>\n",
              "      <td>3042664</td>\n",
              "      <td>B</td>\n",
              "      <td>3/1/2015 8:21</td>\n",
              "      <td>yard discharge</td>\n",
              "    </tr>\n",
              "    <tr>\n",
              "      <th>2</th>\n",
              "      <td>3042664</td>\n",
              "      <td>N</td>\n",
              "      <td>31/07/2015 10:23:45</td>\n",
              "      <td>delivery</td>\n",
              "    </tr>\n",
              "    <tr>\n",
              "      <th>3</th>\n",
              "      <td>3042664</td>\n",
              "      <td>O</td>\n",
              "      <td>31/07/2015 19:21:52</td>\n",
              "      <td>delivery</td>\n",
              "    </tr>\n",
              "    <tr>\n",
              "      <th>4</th>\n",
              "      <td>3042664</td>\n",
              "      <td>P</td>\n",
              "      <td>31/07/2015 19:39:22</td>\n",
              "      <td>delivery</td>\n",
              "    </tr>\n",
              "  </tbody>\n",
              "</table>\n",
              "</div>"
            ],
            "text/plain": [
              "      case label             datetime       activities\n",
              "0  3042664     A        3/1/2015 7:40  berth discharge\n",
              "1  3042664     B        3/1/2015 8:21   yard discharge\n",
              "2  3042664     N  31/07/2015 10:23:45         delivery\n",
              "3  3042664     O  31/07/2015 19:21:52         delivery\n",
              "4  3042664     P  31/07/2015 19:39:22         delivery"
            ]
          },
          "metadata": {
            "tags": []
          },
          "execution_count": 13
        }
      ]
    },
    {
      "cell_type": "code",
      "metadata": {
        "colab": {
          "base_uri": "https://localhost:8080/"
        },
        "id": "RinRKpbZeKsF",
        "outputId": "5ee6b809-c923-42ff-b300-a1fe6b6aab9b"
      },
      "source": [
        "# Display the data type for each column\n",
        "events.dtypes"
      ],
      "execution_count": null,
      "outputs": [
        {
          "output_type": "execute_result",
          "data": {
            "text/plain": [
              "case           int64\n",
              "label         object\n",
              "datetime      object\n",
              "activities    object\n",
              "dtype: object"
            ]
          },
          "metadata": {
            "tags": []
          },
          "execution_count": 14
        }
      ]
    },
    {
      "cell_type": "code",
      "metadata": {
        "id": "Ve630UCLR_uq"
      },
      "source": [
        "# change the data type in column datetime to datetime\n",
        "events['datetime'] = pd.to_datetime(events['datetime'])"
      ],
      "execution_count": null,
      "outputs": []
    },
    {
      "cell_type": "code",
      "metadata": {
        "id": "EoAaeurWbAQ7",
        "colab": {
          "base_uri": "https://localhost:8080/"
        },
        "outputId": "b51ad480-555b-48e9-8934-d7c5b405797a"
      },
      "source": [
        "# Display the data type for each column\n",
        "events.dtypes"
      ],
      "execution_count": null,
      "outputs": [
        {
          "output_type": "execute_result",
          "data": {
            "text/plain": [
              "case                   int64\n",
              "label                 object\n",
              "datetime      datetime64[ns]\n",
              "activities            object\n",
              "dtype: object"
            ]
          },
          "metadata": {
            "tags": []
          },
          "execution_count": 16
        }
      ]
    },
    {
      "cell_type": "code",
      "metadata": {
        "colab": {
          "base_uri": "https://localhost:8080/"
        },
        "id": "rK8IGwFqhA3a",
        "outputId": "6de3d34d-886c-4bab-9375-d6bcaf9b42f2"
      },
      "source": [
        "# Check missing value in the dataset\n",
        "events.isna().sum()"
      ],
      "execution_count": null,
      "outputs": [
        {
          "output_type": "execute_result",
          "data": {
            "text/plain": [
              "case          0\n",
              "label         0\n",
              "datetime      0\n",
              "activities    0\n",
              "dtype: int64"
            ]
          },
          "metadata": {
            "tags": []
          },
          "execution_count": 43
        }
      ]
    },
    {
      "cell_type": "code",
      "metadata": {
        "colab": {
          "base_uri": "https://localhost:8080/",
          "height": 78
        },
        "id": "gzGkCA1EHQ1o",
        "outputId": "554da406-bc46-4e45-d2f3-76e75463597a"
      },
      "source": [
        "events.loc[events['label'].isna()]"
      ],
      "execution_count": null,
      "outputs": [
        {
          "output_type": "execute_result",
          "data": {
            "text/html": [
              "<div>\n",
              "<style scoped>\n",
              "    .dataframe tbody tr th:only-of-type {\n",
              "        vertical-align: middle;\n",
              "    }\n",
              "\n",
              "    .dataframe tbody tr th {\n",
              "        vertical-align: top;\n",
              "    }\n",
              "\n",
              "    .dataframe thead th {\n",
              "        text-align: right;\n",
              "    }\n",
              "</style>\n",
              "<table border=\"1\" class=\"dataframe\">\n",
              "  <thead>\n",
              "    <tr style=\"text-align: right;\">\n",
              "      <th></th>\n",
              "      <th>case</th>\n",
              "      <th>label</th>\n",
              "      <th>datetime</th>\n",
              "      <th>activities</th>\n",
              "    </tr>\n",
              "  </thead>\n",
              "  <tbody>\n",
              "    <tr>\n",
              "      <th>330765</th>\n",
              "      <td>3880606</td>\n",
              "      <td>NaN</td>\n",
              "      <td>2015-08-22 18:59:57</td>\n",
              "      <td>berth discharge</td>\n",
              "    </tr>\n",
              "  </tbody>\n",
              "</table>\n",
              "</div>"
            ],
            "text/plain": [
              "           case label            datetime       activities\n",
              "330765  3880606   NaN 2015-08-22 18:59:57  berth discharge"
            ]
          },
          "metadata": {
            "tags": []
          },
          "execution_count": 18
        }
      ]
    },
    {
      "cell_type": "code",
      "metadata": {
        "id": "0o9DENlaSV4T",
        "colab": {
          "base_uri": "https://localhost:8080/",
          "height": 407
        },
        "outputId": "e7f5a6a0-16f3-4b67-a026-9227a2788ae2"
      },
      "source": [
        "events.dropna(axis=0, how='any')"
      ],
      "execution_count": null,
      "outputs": [
        {
          "output_type": "execute_result",
          "data": {
            "text/html": [
              "<div>\n",
              "<style scoped>\n",
              "    .dataframe tbody tr th:only-of-type {\n",
              "        vertical-align: middle;\n",
              "    }\n",
              "\n",
              "    .dataframe tbody tr th {\n",
              "        vertical-align: top;\n",
              "    }\n",
              "\n",
              "    .dataframe thead th {\n",
              "        text-align: right;\n",
              "    }\n",
              "</style>\n",
              "<table border=\"1\" class=\"dataframe\">\n",
              "  <thead>\n",
              "    <tr style=\"text-align: right;\">\n",
              "      <th></th>\n",
              "      <th>case</th>\n",
              "      <th>label</th>\n",
              "      <th>datetime</th>\n",
              "      <th>activities</th>\n",
              "    </tr>\n",
              "  </thead>\n",
              "  <tbody>\n",
              "    <tr>\n",
              "      <th>0</th>\n",
              "      <td>3042664</td>\n",
              "      <td>A</td>\n",
              "      <td>2015-03-01 07:40:00</td>\n",
              "      <td>berth discharge</td>\n",
              "    </tr>\n",
              "    <tr>\n",
              "      <th>1</th>\n",
              "      <td>3042664</td>\n",
              "      <td>B</td>\n",
              "      <td>2015-03-01 08:21:00</td>\n",
              "      <td>yard discharge</td>\n",
              "    </tr>\n",
              "    <tr>\n",
              "      <th>2</th>\n",
              "      <td>3042664</td>\n",
              "      <td>N</td>\n",
              "      <td>2015-07-31 10:23:45</td>\n",
              "      <td>delivery</td>\n",
              "    </tr>\n",
              "    <tr>\n",
              "      <th>3</th>\n",
              "      <td>3042664</td>\n",
              "      <td>O</td>\n",
              "      <td>2015-07-31 19:21:52</td>\n",
              "      <td>delivery</td>\n",
              "    </tr>\n",
              "    <tr>\n",
              "      <th>4</th>\n",
              "      <td>3042664</td>\n",
              "      <td>P</td>\n",
              "      <td>2015-07-31 19:39:22</td>\n",
              "      <td>delivery</td>\n",
              "    </tr>\n",
              "    <tr>\n",
              "      <th>...</th>\n",
              "      <td>...</td>\n",
              "      <td>...</td>\n",
              "      <td>...</td>\n",
              "      <td>...</td>\n",
              "    </tr>\n",
              "    <tr>\n",
              "      <th>531577</th>\n",
              "      <td>4025040</td>\n",
              "      <td>A</td>\n",
              "      <td>2015-09-30 09:30:23</td>\n",
              "      <td>berth discharge</td>\n",
              "    </tr>\n",
              "    <tr>\n",
              "      <th>531578</th>\n",
              "      <td>4025040</td>\n",
              "      <td>B</td>\n",
              "      <td>2015-09-30 09:44:46</td>\n",
              "      <td>yard discharge</td>\n",
              "    </tr>\n",
              "    <tr>\n",
              "      <th>531579</th>\n",
              "      <td>4025040</td>\n",
              "      <td>N</td>\n",
              "      <td>2015-09-30 13:24:28</td>\n",
              "      <td>delivery</td>\n",
              "    </tr>\n",
              "    <tr>\n",
              "      <th>531580</th>\n",
              "      <td>4025040</td>\n",
              "      <td>O</td>\n",
              "      <td>2015-09-30 13:52:43</td>\n",
              "      <td>delivery</td>\n",
              "    </tr>\n",
              "    <tr>\n",
              "      <th>531581</th>\n",
              "      <td>4025040</td>\n",
              "      <td>P</td>\n",
              "      <td>2015-09-30 14:08:12</td>\n",
              "      <td>delivery</td>\n",
              "    </tr>\n",
              "  </tbody>\n",
              "</table>\n",
              "<p>531581 rows × 4 columns</p>\n",
              "</div>"
            ],
            "text/plain": [
              "           case label            datetime       activities\n",
              "0       3042664     A 2015-03-01 07:40:00  berth discharge\n",
              "1       3042664     B 2015-03-01 08:21:00   yard discharge\n",
              "2       3042664     N 2015-07-31 10:23:45         delivery\n",
              "3       3042664     O 2015-07-31 19:21:52         delivery\n",
              "4       3042664     P 2015-07-31 19:39:22         delivery\n",
              "...         ...   ...                 ...              ...\n",
              "531577  4025040     A 2015-09-30 09:30:23  berth discharge\n",
              "531578  4025040     B 2015-09-30 09:44:46   yard discharge\n",
              "531579  4025040     N 2015-09-30 13:24:28         delivery\n",
              "531580  4025040     O 2015-09-30 13:52:43         delivery\n",
              "531581  4025040     P 2015-09-30 14:08:12         delivery\n",
              "\n",
              "[531581 rows x 4 columns]"
            ]
          },
          "metadata": {
            "tags": []
          },
          "execution_count": 26
        }
      ]
    },
    {
      "cell_type": "code",
      "metadata": {
        "colab": {
          "base_uri": "https://localhost:8080/"
        },
        "id": "Cn--_gY9SV1d",
        "outputId": "da5a9f1b-63f1-4ba6-bcfa-ed872d2ec20f"
      },
      "source": [
        "events.isna().sum()"
      ],
      "execution_count": null,
      "outputs": [
        {
          "output_type": "execute_result",
          "data": {
            "text/plain": [
              "case          0\n",
              "label         1\n",
              "datetime      0\n",
              "activities    0\n",
              "dtype: int64"
            ]
          },
          "metadata": {
            "tags": []
          },
          "execution_count": 28
        }
      ]
    },
    {
      "cell_type": "code",
      "metadata": {
        "colab": {
          "base_uri": "https://localhost:8080/",
          "height": 78
        },
        "id": "SDoIZT7RhhzS",
        "outputId": "1097ac01-4444-4c14-dcb1-bf4fa00db35f"
      },
      "source": [
        "events.loc[events['label'].isna()]"
      ],
      "execution_count": null,
      "outputs": [
        {
          "output_type": "execute_result",
          "data": {
            "text/html": [
              "<div>\n",
              "<style scoped>\n",
              "    .dataframe tbody tr th:only-of-type {\n",
              "        vertical-align: middle;\n",
              "    }\n",
              "\n",
              "    .dataframe tbody tr th {\n",
              "        vertical-align: top;\n",
              "    }\n",
              "\n",
              "    .dataframe thead th {\n",
              "        text-align: right;\n",
              "    }\n",
              "</style>\n",
              "<table border=\"1\" class=\"dataframe\">\n",
              "  <thead>\n",
              "    <tr style=\"text-align: right;\">\n",
              "      <th></th>\n",
              "      <th>case</th>\n",
              "      <th>label</th>\n",
              "      <th>datetime</th>\n",
              "      <th>activities</th>\n",
              "    </tr>\n",
              "  </thead>\n",
              "  <tbody>\n",
              "    <tr>\n",
              "      <th>330765</th>\n",
              "      <td>3880606</td>\n",
              "      <td>NaN</td>\n",
              "      <td>2015-08-22 18:59:57</td>\n",
              "      <td>berth discharge</td>\n",
              "    </tr>\n",
              "  </tbody>\n",
              "</table>\n",
              "</div>"
            ],
            "text/plain": [
              "           case label            datetime       activities\n",
              "330765  3880606   NaN 2015-08-22 18:59:57  berth discharge"
            ]
          },
          "metadata": {
            "tags": []
          },
          "execution_count": 29
        }
      ]
    },
    {
      "cell_type": "code",
      "metadata": {
        "colab": {
          "base_uri": "https://localhost:8080/",
          "height": 407
        },
        "id": "B9mnBZfuiJOo",
        "outputId": "e71172a9-1157-4f5d-e685-816c4e9981ad"
      },
      "source": [
        "events.dropna(axis=0)"
      ],
      "execution_count": null,
      "outputs": [
        {
          "output_type": "execute_result",
          "data": {
            "text/html": [
              "<div>\n",
              "<style scoped>\n",
              "    .dataframe tbody tr th:only-of-type {\n",
              "        vertical-align: middle;\n",
              "    }\n",
              "\n",
              "    .dataframe tbody tr th {\n",
              "        vertical-align: top;\n",
              "    }\n",
              "\n",
              "    .dataframe thead th {\n",
              "        text-align: right;\n",
              "    }\n",
              "</style>\n",
              "<table border=\"1\" class=\"dataframe\">\n",
              "  <thead>\n",
              "    <tr style=\"text-align: right;\">\n",
              "      <th></th>\n",
              "      <th>case</th>\n",
              "      <th>label</th>\n",
              "      <th>datetime</th>\n",
              "      <th>activities</th>\n",
              "    </tr>\n",
              "  </thead>\n",
              "  <tbody>\n",
              "    <tr>\n",
              "      <th>0</th>\n",
              "      <td>3042664</td>\n",
              "      <td>A</td>\n",
              "      <td>2015-03-01 07:40:00</td>\n",
              "      <td>berth discharge</td>\n",
              "    </tr>\n",
              "    <tr>\n",
              "      <th>1</th>\n",
              "      <td>3042664</td>\n",
              "      <td>B</td>\n",
              "      <td>2015-03-01 08:21:00</td>\n",
              "      <td>yard discharge</td>\n",
              "    </tr>\n",
              "    <tr>\n",
              "      <th>2</th>\n",
              "      <td>3042664</td>\n",
              "      <td>N</td>\n",
              "      <td>2015-07-31 10:23:45</td>\n",
              "      <td>delivery</td>\n",
              "    </tr>\n",
              "    <tr>\n",
              "      <th>3</th>\n",
              "      <td>3042664</td>\n",
              "      <td>O</td>\n",
              "      <td>2015-07-31 19:21:52</td>\n",
              "      <td>delivery</td>\n",
              "    </tr>\n",
              "    <tr>\n",
              "      <th>4</th>\n",
              "      <td>3042664</td>\n",
              "      <td>P</td>\n",
              "      <td>2015-07-31 19:39:22</td>\n",
              "      <td>delivery</td>\n",
              "    </tr>\n",
              "    <tr>\n",
              "      <th>...</th>\n",
              "      <td>...</td>\n",
              "      <td>...</td>\n",
              "      <td>...</td>\n",
              "      <td>...</td>\n",
              "    </tr>\n",
              "    <tr>\n",
              "      <th>531577</th>\n",
              "      <td>4025040</td>\n",
              "      <td>A</td>\n",
              "      <td>2015-09-30 09:30:23</td>\n",
              "      <td>berth discharge</td>\n",
              "    </tr>\n",
              "    <tr>\n",
              "      <th>531578</th>\n",
              "      <td>4025040</td>\n",
              "      <td>B</td>\n",
              "      <td>2015-09-30 09:44:46</td>\n",
              "      <td>yard discharge</td>\n",
              "    </tr>\n",
              "    <tr>\n",
              "      <th>531579</th>\n",
              "      <td>4025040</td>\n",
              "      <td>N</td>\n",
              "      <td>2015-09-30 13:24:28</td>\n",
              "      <td>delivery</td>\n",
              "    </tr>\n",
              "    <tr>\n",
              "      <th>531580</th>\n",
              "      <td>4025040</td>\n",
              "      <td>O</td>\n",
              "      <td>2015-09-30 13:52:43</td>\n",
              "      <td>delivery</td>\n",
              "    </tr>\n",
              "    <tr>\n",
              "      <th>531581</th>\n",
              "      <td>4025040</td>\n",
              "      <td>P</td>\n",
              "      <td>2015-09-30 14:08:12</td>\n",
              "      <td>delivery</td>\n",
              "    </tr>\n",
              "  </tbody>\n",
              "</table>\n",
              "<p>531581 rows × 4 columns</p>\n",
              "</div>"
            ],
            "text/plain": [
              "           case label            datetime       activities\n",
              "0       3042664     A 2015-03-01 07:40:00  berth discharge\n",
              "1       3042664     B 2015-03-01 08:21:00   yard discharge\n",
              "2       3042664     N 2015-07-31 10:23:45         delivery\n",
              "3       3042664     O 2015-07-31 19:21:52         delivery\n",
              "4       3042664     P 2015-07-31 19:39:22         delivery\n",
              "...         ...   ...                 ...              ...\n",
              "531577  4025040     A 2015-09-30 09:30:23  berth discharge\n",
              "531578  4025040     B 2015-09-30 09:44:46   yard discharge\n",
              "531579  4025040     N 2015-09-30 13:24:28         delivery\n",
              "531580  4025040     O 2015-09-30 13:52:43         delivery\n",
              "531581  4025040     P 2015-09-30 14:08:12         delivery\n",
              "\n",
              "[531581 rows x 4 columns]"
            ]
          },
          "metadata": {
            "tags": []
          },
          "execution_count": 31
        }
      ]
    },
    {
      "cell_type": "code",
      "metadata": {
        "colab": {
          "base_uri": "https://localhost:8080/",
          "height": 78
        },
        "id": "o7tge8CeiPi_",
        "outputId": "ba1fb295-dd93-40b0-d54f-af5efde18240"
      },
      "source": [
        "events.loc[events['label'].isna()]"
      ],
      "execution_count": null,
      "outputs": [
        {
          "output_type": "execute_result",
          "data": {
            "text/html": [
              "<div>\n",
              "<style scoped>\n",
              "    .dataframe tbody tr th:only-of-type {\n",
              "        vertical-align: middle;\n",
              "    }\n",
              "\n",
              "    .dataframe tbody tr th {\n",
              "        vertical-align: top;\n",
              "    }\n",
              "\n",
              "    .dataframe thead th {\n",
              "        text-align: right;\n",
              "    }\n",
              "</style>\n",
              "<table border=\"1\" class=\"dataframe\">\n",
              "  <thead>\n",
              "    <tr style=\"text-align: right;\">\n",
              "      <th></th>\n",
              "      <th>case</th>\n",
              "      <th>label</th>\n",
              "      <th>datetime</th>\n",
              "      <th>activities</th>\n",
              "    </tr>\n",
              "  </thead>\n",
              "  <tbody>\n",
              "    <tr>\n",
              "      <th>330765</th>\n",
              "      <td>3880606</td>\n",
              "      <td>NaN</td>\n",
              "      <td>2015-08-22 18:59:57</td>\n",
              "      <td>berth discharge</td>\n",
              "    </tr>\n",
              "  </tbody>\n",
              "</table>\n",
              "</div>"
            ],
            "text/plain": [
              "           case label            datetime       activities\n",
              "330765  3880606   NaN 2015-08-22 18:59:57  berth discharge"
            ]
          },
          "metadata": {
            "tags": []
          },
          "execution_count": 32
        }
      ]
    },
    {
      "cell_type": "code",
      "metadata": {
        "id": "jKwvuXwiSVy7",
        "colab": {
          "base_uri": "https://localhost:8080/",
          "height": 347
        },
        "outputId": "6a2a2006-3786-4620-c252-93dd87cc2681"
      },
      "source": [
        " ## Get the case start times to get the time deltas for the 'age' of each activity with respect to start\n",
        "case_starts_ends = events.pivot_table(index='case', aggfunc={'datetime': ['min', 'max']})\n",
        "case_starts_ends = case_starts_ends.reset_index()\n",
        "case_starts_ends.columns = ['case', 'caseend', 'casestart']\n",
        "events = events.merge(case_starts_ends, on='case')\n",
        "events['relativetime'] = events['datetime'] - events['casestart']\n",
        "events.head(10)"
      ],
      "execution_count": null,
      "outputs": [
        {
          "output_type": "execute_result",
          "data": {
            "text/html": [
              "<div>\n",
              "<style scoped>\n",
              "    .dataframe tbody tr th:only-of-type {\n",
              "        vertical-align: middle;\n",
              "    }\n",
              "\n",
              "    .dataframe tbody tr th {\n",
              "        vertical-align: top;\n",
              "    }\n",
              "\n",
              "    .dataframe thead th {\n",
              "        text-align: right;\n",
              "    }\n",
              "</style>\n",
              "<table border=\"1\" class=\"dataframe\">\n",
              "  <thead>\n",
              "    <tr style=\"text-align: right;\">\n",
              "      <th></th>\n",
              "      <th>case</th>\n",
              "      <th>label</th>\n",
              "      <th>datetime</th>\n",
              "      <th>activities</th>\n",
              "      <th>caseend</th>\n",
              "      <th>casestart</th>\n",
              "      <th>relativetime</th>\n",
              "    </tr>\n",
              "  </thead>\n",
              "  <tbody>\n",
              "    <tr>\n",
              "      <th>0</th>\n",
              "      <td>3042664</td>\n",
              "      <td>A</td>\n",
              "      <td>2015-03-01 07:40:00</td>\n",
              "      <td>berth discharge</td>\n",
              "      <td>2015-07-31 19:39:22</td>\n",
              "      <td>2015-03-01 07:40:00</td>\n",
              "      <td>0 days 00:00:00</td>\n",
              "    </tr>\n",
              "    <tr>\n",
              "      <th>1</th>\n",
              "      <td>3042664</td>\n",
              "      <td>B</td>\n",
              "      <td>2015-03-01 08:21:00</td>\n",
              "      <td>yard discharge</td>\n",
              "      <td>2015-07-31 19:39:22</td>\n",
              "      <td>2015-03-01 07:40:00</td>\n",
              "      <td>0 days 00:41:00</td>\n",
              "    </tr>\n",
              "    <tr>\n",
              "      <th>2</th>\n",
              "      <td>3042664</td>\n",
              "      <td>N</td>\n",
              "      <td>2015-07-31 10:23:45</td>\n",
              "      <td>delivery</td>\n",
              "      <td>2015-07-31 19:39:22</td>\n",
              "      <td>2015-03-01 07:40:00</td>\n",
              "      <td>152 days 02:43:45</td>\n",
              "    </tr>\n",
              "    <tr>\n",
              "      <th>3</th>\n",
              "      <td>3042664</td>\n",
              "      <td>O</td>\n",
              "      <td>2015-07-31 19:21:52</td>\n",
              "      <td>delivery</td>\n",
              "      <td>2015-07-31 19:39:22</td>\n",
              "      <td>2015-03-01 07:40:00</td>\n",
              "      <td>152 days 11:41:52</td>\n",
              "    </tr>\n",
              "    <tr>\n",
              "      <th>4</th>\n",
              "      <td>3042664</td>\n",
              "      <td>P</td>\n",
              "      <td>2015-07-31 19:39:22</td>\n",
              "      <td>delivery</td>\n",
              "      <td>2015-07-31 19:39:22</td>\n",
              "      <td>2015-03-01 07:40:00</td>\n",
              "      <td>152 days 11:59:22</td>\n",
              "    </tr>\n",
              "    <tr>\n",
              "      <th>5</th>\n",
              "      <td>3042795</td>\n",
              "      <td>A</td>\n",
              "      <td>2015-02-01 15:26:00</td>\n",
              "      <td>berth discharge</td>\n",
              "      <td>2015-07-31 21:16:12</td>\n",
              "      <td>2015-02-01 15:26:00</td>\n",
              "      <td>0 days 00:00:00</td>\n",
              "    </tr>\n",
              "    <tr>\n",
              "      <th>6</th>\n",
              "      <td>3042795</td>\n",
              "      <td>B</td>\n",
              "      <td>2015-02-01 15:39:00</td>\n",
              "      <td>yard discharge</td>\n",
              "      <td>2015-07-31 21:16:12</td>\n",
              "      <td>2015-02-01 15:26:00</td>\n",
              "      <td>0 days 00:13:00</td>\n",
              "    </tr>\n",
              "    <tr>\n",
              "      <th>7</th>\n",
              "      <td>3042795</td>\n",
              "      <td>N</td>\n",
              "      <td>2015-07-31 10:23:45</td>\n",
              "      <td>delivery</td>\n",
              "      <td>2015-07-31 21:16:12</td>\n",
              "      <td>2015-02-01 15:26:00</td>\n",
              "      <td>179 days 18:57:45</td>\n",
              "    </tr>\n",
              "    <tr>\n",
              "      <th>8</th>\n",
              "      <td>3042795</td>\n",
              "      <td>O</td>\n",
              "      <td>2015-07-31 20:35:47</td>\n",
              "      <td>delivery</td>\n",
              "      <td>2015-07-31 21:16:12</td>\n",
              "      <td>2015-02-01 15:26:00</td>\n",
              "      <td>180 days 05:09:47</td>\n",
              "    </tr>\n",
              "    <tr>\n",
              "      <th>9</th>\n",
              "      <td>3042795</td>\n",
              "      <td>P</td>\n",
              "      <td>2015-07-31 21:16:12</td>\n",
              "      <td>delivery</td>\n",
              "      <td>2015-07-31 21:16:12</td>\n",
              "      <td>2015-02-01 15:26:00</td>\n",
              "      <td>180 days 05:50:12</td>\n",
              "    </tr>\n",
              "  </tbody>\n",
              "</table>\n",
              "</div>"
            ],
            "text/plain": [
              "      case label  ...           casestart      relativetime\n",
              "0  3042664     A  ... 2015-03-01 07:40:00   0 days 00:00:00\n",
              "1  3042664     B  ... 2015-03-01 07:40:00   0 days 00:41:00\n",
              "2  3042664     N  ... 2015-03-01 07:40:00 152 days 02:43:45\n",
              "3  3042664     O  ... 2015-03-01 07:40:00 152 days 11:41:52\n",
              "4  3042664     P  ... 2015-03-01 07:40:00 152 days 11:59:22\n",
              "5  3042795     A  ... 2015-02-01 15:26:00   0 days 00:00:00\n",
              "6  3042795     B  ... 2015-02-01 15:26:00   0 days 00:13:00\n",
              "7  3042795     N  ... 2015-02-01 15:26:00 179 days 18:57:45\n",
              "8  3042795     O  ... 2015-02-01 15:26:00 180 days 05:09:47\n",
              "9  3042795     P  ... 2015-02-01 15:26:00 180 days 05:50:12\n",
              "\n",
              "[10 rows x 7 columns]"
            ]
          },
          "metadata": {
            "tags": []
          },
          "execution_count": 17
        }
      ]
    },
    {
      "cell_type": "code",
      "metadata": {
        "id": "66TA4rs6SVv7"
      },
      "source": [
        "events['label'] = events['label'].apply(lambda x: x)"
      ],
      "execution_count": null,
      "outputs": []
    },
    {
      "cell_type": "code",
      "metadata": {
        "id": "8pptAnFVSVtS",
        "colab": {
          "base_uri": "https://localhost:8080/",
          "height": 281
        },
        "outputId": "5ce71d55-910d-4bb2-c6ba-562d8cc7741b"
      },
      "source": [
        " delimiter = '___'\n",
        "\n",
        "makeEventString = lambda x: delimiter.join(str(x))\n",
        "makeEventString.__name__ = 'makeEventString'\n",
        "\n",
        "numEvents = lambda x: len(x)\n",
        "numEvents.__name__ = 'numEvents'\n",
        "\n",
        "\n",
        "caselogs = events.pivot_table(index='case', aggfunc={'label': [makeEventString, numEvents]})\n",
        "caselogs = caselogs.reset_index()\n",
        "caselogs.columns = ['case', 'action_sequence', 'numactions']\n",
        "\n",
        "events = pd.merge(events, caselogs, on='case')\n",
        "events['caselength'] = events['caseend'] - events['casestart']\n",
        "\n",
        "events.head()"
      ],
      "execution_count": null,
      "outputs": [
        {
          "output_type": "execute_result",
          "data": {
            "text/html": [
              "<div>\n",
              "<style scoped>\n",
              "    .dataframe tbody tr th:only-of-type {\n",
              "        vertical-align: middle;\n",
              "    }\n",
              "\n",
              "    .dataframe tbody tr th {\n",
              "        vertical-align: top;\n",
              "    }\n",
              "\n",
              "    .dataframe thead th {\n",
              "        text-align: right;\n",
              "    }\n",
              "</style>\n",
              "<table border=\"1\" class=\"dataframe\">\n",
              "  <thead>\n",
              "    <tr style=\"text-align: right;\">\n",
              "      <th></th>\n",
              "      <th>case</th>\n",
              "      <th>label</th>\n",
              "      <th>datetime</th>\n",
              "      <th>activities</th>\n",
              "      <th>caseend</th>\n",
              "      <th>casestart</th>\n",
              "      <th>relativetime</th>\n",
              "      <th>action_sequence</th>\n",
              "      <th>numactions</th>\n",
              "      <th>caselength</th>\n",
              "    </tr>\n",
              "  </thead>\n",
              "  <tbody>\n",
              "    <tr>\n",
              "      <th>0</th>\n",
              "      <td>3042664</td>\n",
              "      <td>A</td>\n",
              "      <td>2015-03-01 07:40:00</td>\n",
              "      <td>berth discharge</td>\n",
              "      <td>2015-07-31 19:39:22</td>\n",
              "      <td>2015-03-01 07:40:00</td>\n",
              "      <td>0 days 00:00:00</td>\n",
              "      <td>0___ ___ ___ ___ ___A___\\n___1___ ___ ___ ___ ...</td>\n",
              "      <td>5</td>\n",
              "      <td>152 days 11:59:22</td>\n",
              "    </tr>\n",
              "    <tr>\n",
              "      <th>1</th>\n",
              "      <td>3042664</td>\n",
              "      <td>B</td>\n",
              "      <td>2015-03-01 08:21:00</td>\n",
              "      <td>yard discharge</td>\n",
              "      <td>2015-07-31 19:39:22</td>\n",
              "      <td>2015-03-01 07:40:00</td>\n",
              "      <td>0 days 00:41:00</td>\n",
              "      <td>0___ ___ ___ ___ ___A___\\n___1___ ___ ___ ___ ...</td>\n",
              "      <td>5</td>\n",
              "      <td>152 days 11:59:22</td>\n",
              "    </tr>\n",
              "    <tr>\n",
              "      <th>2</th>\n",
              "      <td>3042664</td>\n",
              "      <td>N</td>\n",
              "      <td>2015-07-31 10:23:45</td>\n",
              "      <td>delivery</td>\n",
              "      <td>2015-07-31 19:39:22</td>\n",
              "      <td>2015-03-01 07:40:00</td>\n",
              "      <td>152 days 02:43:45</td>\n",
              "      <td>0___ ___ ___ ___ ___A___\\n___1___ ___ ___ ___ ...</td>\n",
              "      <td>5</td>\n",
              "      <td>152 days 11:59:22</td>\n",
              "    </tr>\n",
              "    <tr>\n",
              "      <th>3</th>\n",
              "      <td>3042664</td>\n",
              "      <td>O</td>\n",
              "      <td>2015-07-31 19:21:52</td>\n",
              "      <td>delivery</td>\n",
              "      <td>2015-07-31 19:39:22</td>\n",
              "      <td>2015-03-01 07:40:00</td>\n",
              "      <td>152 days 11:41:52</td>\n",
              "      <td>0___ ___ ___ ___ ___A___\\n___1___ ___ ___ ___ ...</td>\n",
              "      <td>5</td>\n",
              "      <td>152 days 11:59:22</td>\n",
              "    </tr>\n",
              "    <tr>\n",
              "      <th>4</th>\n",
              "      <td>3042664</td>\n",
              "      <td>P</td>\n",
              "      <td>2015-07-31 19:39:22</td>\n",
              "      <td>delivery</td>\n",
              "      <td>2015-07-31 19:39:22</td>\n",
              "      <td>2015-03-01 07:40:00</td>\n",
              "      <td>152 days 11:59:22</td>\n",
              "      <td>0___ ___ ___ ___ ___A___\\n___1___ ___ ___ ___ ...</td>\n",
              "      <td>5</td>\n",
              "      <td>152 days 11:59:22</td>\n",
              "    </tr>\n",
              "  </tbody>\n",
              "</table>\n",
              "</div>"
            ],
            "text/plain": [
              "      case label  ... numactions        caselength\n",
              "0  3042664     A  ...          5 152 days 11:59:22\n",
              "1  3042664     B  ...          5 152 days 11:59:22\n",
              "2  3042664     N  ...          5 152 days 11:59:22\n",
              "3  3042664     O  ...          5 152 days 11:59:22\n",
              "4  3042664     P  ...          5 152 days 11:59:22\n",
              "\n",
              "[5 rows x 10 columns]"
            ]
          },
          "metadata": {
            "tags": []
          },
          "execution_count": 19
        }
      ]
    },
    {
      "cell_type": "code",
      "metadata": {
        "id": "dVXWCfPSSVqu"
      },
      "source": [
        "## Get day of week\n",
        "events['weekday'] = events['datetime'].apply(lambda x: x.weekday())\n",
        "events['date'] = events['datetime'].apply(lambda x: x.date())\n",
        "events['startdate'] = events['casestart'].apply(lambda x: x.date())\n",
        "events['hour'] = events['datetime'].apply(lambda x: x.time().hour)\n",
        "## Get relative times in more friendly terms\n",
        "events['relativetime_s'] = events['relativetime'].dt.seconds + 86400*events['relativetime'].dt.days\n",
        "events['relativedays'] = events['relativetime'].dt.days"
      ],
      "execution_count": null,
      "outputs": []
    },
    {
      "cell_type": "code",
      "metadata": {
        "colab": {
          "base_uri": "https://localhost:8080/",
          "height": 391
        },
        "id": "k5R8Tumpjngs",
        "outputId": "03aa4705-ccbe-451e-8ebf-08156f1b9969"
      },
      "source": [
        "events.head()"
      ],
      "execution_count": null,
      "outputs": [
        {
          "output_type": "execute_result",
          "data": {
            "text/html": [
              "<div>\n",
              "<style scoped>\n",
              "    .dataframe tbody tr th:only-of-type {\n",
              "        vertical-align: middle;\n",
              "    }\n",
              "\n",
              "    .dataframe tbody tr th {\n",
              "        vertical-align: top;\n",
              "    }\n",
              "\n",
              "    .dataframe thead th {\n",
              "        text-align: right;\n",
              "    }\n",
              "</style>\n",
              "<table border=\"1\" class=\"dataframe\">\n",
              "  <thead>\n",
              "    <tr style=\"text-align: right;\">\n",
              "      <th></th>\n",
              "      <th>case</th>\n",
              "      <th>label</th>\n",
              "      <th>datetime</th>\n",
              "      <th>activities</th>\n",
              "      <th>caseend</th>\n",
              "      <th>casestart</th>\n",
              "      <th>relativetime</th>\n",
              "      <th>action_sequence</th>\n",
              "      <th>numactions</th>\n",
              "      <th>caselength</th>\n",
              "      <th>weekday</th>\n",
              "      <th>date</th>\n",
              "      <th>startdate</th>\n",
              "      <th>hour</th>\n",
              "      <th>relativetime_s</th>\n",
              "      <th>relativedays</th>\n",
              "    </tr>\n",
              "  </thead>\n",
              "  <tbody>\n",
              "    <tr>\n",
              "      <th>0</th>\n",
              "      <td>3042664</td>\n",
              "      <td>A</td>\n",
              "      <td>2015-03-01 07:40:00</td>\n",
              "      <td>berth discharge</td>\n",
              "      <td>2015-07-31 19:39:22</td>\n",
              "      <td>2015-03-01 07:40:00</td>\n",
              "      <td>0 days 00:00:00</td>\n",
              "      <td>0___ ___ ___ ___ ___A___\\n___1___ ___ ___ ___ ...</td>\n",
              "      <td>5</td>\n",
              "      <td>152 days 11:59:22</td>\n",
              "      <td>6</td>\n",
              "      <td>2015-03-01</td>\n",
              "      <td>2015-03-01</td>\n",
              "      <td>7</td>\n",
              "      <td>0</td>\n",
              "      <td>0</td>\n",
              "    </tr>\n",
              "    <tr>\n",
              "      <th>1</th>\n",
              "      <td>3042664</td>\n",
              "      <td>B</td>\n",
              "      <td>2015-03-01 08:21:00</td>\n",
              "      <td>yard discharge</td>\n",
              "      <td>2015-07-31 19:39:22</td>\n",
              "      <td>2015-03-01 07:40:00</td>\n",
              "      <td>0 days 00:41:00</td>\n",
              "      <td>0___ ___ ___ ___ ___A___\\n___1___ ___ ___ ___ ...</td>\n",
              "      <td>5</td>\n",
              "      <td>152 days 11:59:22</td>\n",
              "      <td>6</td>\n",
              "      <td>2015-03-01</td>\n",
              "      <td>2015-03-01</td>\n",
              "      <td>8</td>\n",
              "      <td>2460</td>\n",
              "      <td>0</td>\n",
              "    </tr>\n",
              "    <tr>\n",
              "      <th>2</th>\n",
              "      <td>3042664</td>\n",
              "      <td>N</td>\n",
              "      <td>2015-07-31 10:23:45</td>\n",
              "      <td>delivery</td>\n",
              "      <td>2015-07-31 19:39:22</td>\n",
              "      <td>2015-03-01 07:40:00</td>\n",
              "      <td>152 days 02:43:45</td>\n",
              "      <td>0___ ___ ___ ___ ___A___\\n___1___ ___ ___ ___ ...</td>\n",
              "      <td>5</td>\n",
              "      <td>152 days 11:59:22</td>\n",
              "      <td>4</td>\n",
              "      <td>2015-07-31</td>\n",
              "      <td>2015-03-01</td>\n",
              "      <td>10</td>\n",
              "      <td>13142625</td>\n",
              "      <td>152</td>\n",
              "    </tr>\n",
              "    <tr>\n",
              "      <th>3</th>\n",
              "      <td>3042664</td>\n",
              "      <td>O</td>\n",
              "      <td>2015-07-31 19:21:52</td>\n",
              "      <td>delivery</td>\n",
              "      <td>2015-07-31 19:39:22</td>\n",
              "      <td>2015-03-01 07:40:00</td>\n",
              "      <td>152 days 11:41:52</td>\n",
              "      <td>0___ ___ ___ ___ ___A___\\n___1___ ___ ___ ___ ...</td>\n",
              "      <td>5</td>\n",
              "      <td>152 days 11:59:22</td>\n",
              "      <td>4</td>\n",
              "      <td>2015-07-31</td>\n",
              "      <td>2015-03-01</td>\n",
              "      <td>19</td>\n",
              "      <td>13174912</td>\n",
              "      <td>152</td>\n",
              "    </tr>\n",
              "    <tr>\n",
              "      <th>4</th>\n",
              "      <td>3042664</td>\n",
              "      <td>P</td>\n",
              "      <td>2015-07-31 19:39:22</td>\n",
              "      <td>delivery</td>\n",
              "      <td>2015-07-31 19:39:22</td>\n",
              "      <td>2015-03-01 07:40:00</td>\n",
              "      <td>152 days 11:59:22</td>\n",
              "      <td>0___ ___ ___ ___ ___A___\\n___1___ ___ ___ ___ ...</td>\n",
              "      <td>5</td>\n",
              "      <td>152 days 11:59:22</td>\n",
              "      <td>4</td>\n",
              "      <td>2015-07-31</td>\n",
              "      <td>2015-03-01</td>\n",
              "      <td>19</td>\n",
              "      <td>13175962</td>\n",
              "      <td>152</td>\n",
              "    </tr>\n",
              "  </tbody>\n",
              "</table>\n",
              "</div>"
            ],
            "text/plain": [
              "      case label            datetime  ... hour relativetime_s relativedays\n",
              "0  3042664     A 2015-03-01 07:40:00  ...    7              0            0\n",
              "1  3042664     B 2015-03-01 08:21:00  ...    8           2460            0\n",
              "2  3042664     N 2015-07-31 10:23:45  ...   10       13142625          152\n",
              "3  3042664     O 2015-07-31 19:21:52  ...   19       13174912          152\n",
              "4  3042664     P 2015-07-31 19:39:22  ...   19       13175962          152\n",
              "\n",
              "[5 rows x 16 columns]"
            ]
          },
          "metadata": {
            "tags": []
          },
          "execution_count": 48
        }
      ]
    },
    {
      "cell_type": "code",
      "metadata": {
        "id": "-djrf8JHjndl"
      },
      "source": [
        "event = events[['case','label','datetime']].copy()"
      ],
      "execution_count": null,
      "outputs": []
    },
    {
      "cell_type": "code",
      "metadata": {
        "colab": {
          "base_uri": "https://localhost:8080/"
        },
        "id": "ZHHLIVAYn0s9",
        "outputId": "2ccf2762-6bd9-4d2f-d355-a369639dd735"
      },
      "source": [
        "event.dtypes"
      ],
      "execution_count": null,
      "outputs": [
        {
          "output_type": "execute_result",
          "data": {
            "text/plain": [
              "case                 int64\n",
              "label               object\n",
              "datetime    datetime64[ns]\n",
              "dtype: object"
            ]
          },
          "metadata": {
            "tags": []
          },
          "execution_count": 23
        }
      ]
    },
    {
      "cell_type": "code",
      "metadata": {
        "colab": {
          "base_uri": "https://localhost:8080/"
        },
        "id": "-K7rKyK-dE15",
        "outputId": "e802ccbc-a9ee-497d-8461-2c1a436f91da"
      },
      "source": [
        "print('**Minimum number of events per case**: {}'.format(min(events['case'].value_counts())))"
      ],
      "execution_count": null,
      "outputs": [
        {
          "output_type": "stream",
          "text": [
            "**Minimum number of events per case**: 4\n"
          ],
          "name": "stdout"
        }
      ]
    },
    {
      "cell_type": "code",
      "metadata": {
        "id": "S_IL9tiCd9Er"
      },
      "source": [
        "#!pip install pm4py --user\n",
        "from pm4py.objects.conversion.log import converter as log_converter\n",
        "from pm4py.objects.log.importer.xes import importer as xes_importer\n",
        "\n",
        "# process mining \n",
        "from pm4py.algo.discovery.alpha import algorithm as alpha_miner\n",
        "from pm4py.algo.discovery.inductive import algorithm as inductive_miner\n",
        "from pm4py.algo.discovery.heuristics import algorithm as heuristics_miner\n",
        "from pm4py.algo.discovery.dfg import algorithm as dfg_discovery\n",
        "\n",
        "# viz\n",
        "from pm4py.visualization.petrinet import visualizer as pn_visualizer\n",
        "from pm4py.visualization.process_tree import visualizer as pt_visualizer\n",
        "from pm4py.visualization.heuristics_net import visualizer as hn_visualizer\n",
        "from pm4py.visualization.dfg import visualizer as dfg_visualization\n",
        "\n",
        "# misc \n",
        "from pm4py.objects.conversion.process_tree import converter as pt_converter"
      ],
      "execution_count": null,
      "outputs": []
    },
    {
      "cell_type": "code",
      "metadata": {
        "id": "1XchtJ60hSa6"
      },
      "source": [
        " eventlog = event.copy()\n",
        "### Specify which columns correspond to case (case:concept:name), \n",
        "###event (concept:name) and timestamp (time:timestamp) - rename columns in accordance\n",
        "###with pm4py\n",
        "\n",
        "eventlog.rename(columns={'datetime': 'time:timestamp', 'case': 'case:concept:name', 'label': 'concept:name'}, inplace=True)\n",
        "\n",
        "## Convert to log format\n",
        "log = log_converter.apply(eventlog)"
      ],
      "execution_count": null,
      "outputs": []
    },
    {
      "cell_type": "code",
      "metadata": {
        "id": "z9KOOtXDkRg6"
      },
      "source": [
        "# alpha miner\n",
        "net, initial_marking, final_marking = alpha_miner.apply(log)"
      ],
      "execution_count": null,
      "outputs": []
    },
    {
      "cell_type": "code",
      "metadata": {
        "colab": {
          "base_uri": "https://localhost:8080/",
          "height": 435
        },
        "id": "ptsF6ulKkRdU",
        "outputId": "64325aaa-bfe4-4b28-add2-46255c63d87a"
      },
      "source": [
        "# Visualise\n",
        "gviz = pn_visualizer.apply(net, initial_marking, final_marking)\n",
        "Image(pn_visualizer.view(gviz))"
      ],
      "execution_count": null,
      "outputs": [
        {
          "output_type": "execute_result",
          "data": {
            "image/png": "[encoded data removed]",
            "text/plain": [
              "<IPython.core.display.Image object>"
            ]
          },
          "metadata": {
            "tags": []
          },
          "execution_count": 55
        }
      ]
    },
    {
      "cell_type": "code",
      "metadata": {
        "id": "yurSNi-RkRX3",
        "colab": {
          "base_uri": "https://localhost:8080/",
          "height": 352
        },
        "outputId": "daf120b4-d7db-47d9-d631-103ee1fddcd4"
      },
      "source": [
        "# add information about frequency to the viz \n",
        "parameters = {pn_visualizer.Variants.FREQUENCY.value.Parameters.FORMAT: \"png\"}\n",
        "gviz = pn_visualizer.apply(net, initial_marking, final_marking, \n",
        "                           parameters=parameters, \n",
        "                           variant=pn_visualizer.Variants.FREQUENCY, \n",
        "                           log=log)\n",
        "\n",
        "img = pn_visualizer.view(gviz)\n",
        "Image(img)"
      ],
      "execution_count": null,
      "outputs": [
        {
          "output_type": "execute_result",
          "data": {
            "image/png": "[encoded data removed]",
            "text/plain": [
              "<IPython.core.display.Image object>"
            ]
          },
          "metadata": {
            "tags": []
          },
          "execution_count": 56
        }
      ]
    }
  ]
}